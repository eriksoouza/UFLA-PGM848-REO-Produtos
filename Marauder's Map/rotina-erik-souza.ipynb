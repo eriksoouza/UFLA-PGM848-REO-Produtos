{
 "cells": [
  {
   "cell_type": "markdown",
   "metadata": {
    "ExecuteTime": {
     "end_time": "2020-08-31T23:53:23.033937Z",
     "start_time": "2020-08-31T23:53:23.025940Z"
    }
   },
   "source": [
    "Esse script é o produto do REO4 - Trabalho Final - da disciplina de Avanços em Genética e Melhoramento de Plantas (PGM848) do Período letivo 2020/1. Para mais informações, acesse: https://github.com/VQCarneiro/Visao-Computacional-no-Melhoramento-de-Plantas"
   ]
  },
  {
   "cell_type": "markdown",
   "metadata": {},
   "source": [
    "                                UNIVERSIDADE FEDERAL DE LAVRAS - UFLA\n",
    "                                    DEPARTAMENTO DE BIOLOGIA - DBI\n",
    "                        PROGRAMA DE PÓS-GRADUÇÃO EM GENÉTICA E MELHORAMENTO DE PLANTAS\n",
    "                DISCIPLINA PGM848 - AVANÇOS CIENTÍFICOS EM GENÉTICA E MELHORAMENTO DE PLANTAS\n",
    "                                DOCENTE DSc. VINÍCIUS QUINTÃO CARNEIRO\n",
    "                                 DISCENTE ERIK MICAEL DA SILVA SOUZA\n",
    "                                      REO4 - TRABALHO FINAL\n",
    "\n",
    "                            ROTINA DE PROCESSAMENTO DE IMAGENS DE MORANGO"
   ]
  },
  {
   "cell_type": "markdown",
   "metadata": {},
   "source": [
    "Obs.: Importar as bibliotecas necessárias para resolução desta lista de exercícios: numpy, pil, glob, os, opencv (cv2), matplotlib, pandas & scikit-image (funções)."
   ]
  },
  {
   "cell_type": "code",
   "execution_count": 3,
   "metadata": {
    "ExecuteTime": {
     "end_time": "2020-08-31T23:58:09.707349Z",
     "start_time": "2020-08-31T23:57:53.350579Z"
    }
   },
   "outputs": [],
   "source": [
    "import cv2 \n",
    "import PIL\n",
    "from PIL import Image\n",
    "import numpy as np \n",
    "import cv2 \n",
    "import os\n",
    "import glob\n",
    "from matplotlib import pyplot as plt\n",
    "import pandas as pd\n",
    "from skimage.measure import label, regionprops\n",
    "from skimage.feature import peak_local_max\n",
    "from skimage.segmentation import watershed\n",
    "from scipy import ndimage"
   ]
  },
  {
   "cell_type": "markdown",
   "metadata": {},
   "source": [
    "**Passos:**\n",
    "\n",
    "**1) Definindo o diretório de trabalho:**"
   ]
  },
  {
   "cell_type": "code",
   "execution_count": 4,
   "metadata": {
    "ExecuteTime": {
     "end_time": "2020-08-31T23:58:19.013603Z",
     "start_time": "2020-08-31T23:58:19.006586Z"
    }
   },
   "outputs": [
    {
     "name": "stdout",
     "output_type": "stream",
     "text": [
      "C:\\Users\\Erik-Souza\\Documents\\final\\fotos morangos\n"
     ]
    }
   ],
   "source": [
    "dire = os.getcwd()\n",
    "print(dire)"
   ]
  },
  {
   "cell_type": "markdown",
   "metadata": {},
   "source": [
    "**2) Criando a Função *Resize_Img(img=imagem, mywidth=número final de colunas, x=número da imagem, dire=diretório)* para redimensionamento das imagens de morango:**"
   ]
  },
  {
   "cell_type": "code",
   "execution_count": 6,
   "metadata": {
    "ExecuteTime": {
     "end_time": "2020-09-01T00:00:14.219862Z",
     "start_time": "2020-09-01T00:00:14.209864Z"
    }
   },
   "outputs": [],
   "source": [
    "def Resize_Img(img, mywidth, x, dire):\n",
    "    wpercent = (mywidth/float(img.size[0]))\n",
    "    hsize = int((float(img.size[1])*float(wpercent)))\n",
    "    img = img.resize((mywidth,hsize), PIL.Image.ANTIALIAS)\n",
    "    path = r\"{}\\imagens reduzidas\".format(dire)\n",
    "    if not os.path.exists(path):\n",
    "        os.mkdir(path)\n",
    "    img.save('{}\\img{}.png'.format(path, x))"
   ]
  },
  {
   "cell_type": "markdown",
   "metadata": {},
   "source": [
    "**3) Carregando as imagens da pasta *Fotos-morango*, aplicando a Função Resize_Img(), criando e salvando as imagens redimensionadas na pasta *imagens reduzidas*:**"
   ]
  },
  {
   "cell_type": "code",
   "execution_count": null,
   "metadata": {},
   "outputs": [],
   "source": [
    "'''\n",
    "img_dir = r\"{}\\Fotos-morango\".format(dire)\n",
    "data_path = os.path.join(img_dir,'*g') \n",
    "files = glob.glob(data_path) \n",
    "data = [] \n",
    "for f1 in files: \n",
    "    img = Image.open(f1) \n",
    "    data.append(img)\n",
    "\n",
    "j = 0\n",
    "for i in data:\n",
    "    j = j + 1\n",
    "    Resize_Img(i, 1200, j, dire)\n",
    "'''"
   ]
  },
  {
   "cell_type": "markdown",
   "metadata": {},
   "source": [
    "**4) Criando a Função *proc_img(img=imagem, j=número da imagem, Med=Tamanho do Kernel para suavização via mediana, d=Tamanho do Kernel para dilatação do thresh, e=Tamanho do Kernel para erosão do thresh, dire=diretório)* para processamento das imagens de morango:**"
   ]
  },
  {
   "cell_type": "code",
   "execution_count": 9,
   "metadata": {
    "ExecuteTime": {
     "end_time": "2020-09-01T00:20:48.069487Z",
     "start_time": "2020-09-01T00:20:48.051520Z"
    }
   },
   "outputs": [],
   "source": [
    "def proc_img(img, j, Med, d, e, dire):\n",
    "    path = r\"{}\\imagens segmentadas\".format(dire)\n",
    "    if not os.path.exists(path):\n",
    "        os.mkdir(path)\n",
    "    img_bgr = img[100:600, 100:1100]\n",
    "    img_rgb = cv2.cvtColor(img_bgr, cv2.COLOR_BGR2RGB)\n",
    "    B, G, R = cv2.split(img_bgr)\n",
    "    # suavizando a imagem antes de aplicar o thresholding\n",
    "    R1 = cv2.medianBlur(R, Med)\n",
    "    (L, mask) = cv2.threshold(R1, 0, 255, cv2.THRESH_BINARY + cv2.THRESH_OTSU)  # Thresholding da imagem\n",
    "    kernel = np.ones((d, d), np.uint8)  # Transformação morfológica do thresh\n",
    "    dilatation = cv2.dilate(mask, kernel)\n",
    "    kernel2 = np.ones((e, e), np.uint8)\n",
    "    erosion = cv2.erode(dilatation, kernel2)\n",
    "    # segmentação da imagem\n",
    "    img_seg = cv2.bitwise_and(img_bgr, img_bgr, mask=erosion)\n",
    "    cv2.imwrite('{}\\segmenta {}.png'.format(path, j), img_seg)"
   ]
  },
  {
   "cell_type": "markdown",
   "metadata": {},
   "source": [
    "**5) Carregando as imagens da pasta *imagens reduzidas*, aplicando a Função proc_img(), criando e salvando as imagens processadas na pasta *imagens segmentadas*:**"
   ]
  },
  {
   "cell_type": "code",
   "execution_count": 10,
   "metadata": {
    "ExecuteTime": {
     "end_time": "2020-09-01T00:20:58.864752Z",
     "start_time": "2020-09-01T00:20:50.027027Z"
    }
   },
   "outputs": [],
   "source": [
    "img_dir = r\"{}\\imagens reduzidas\".format(dire)\n",
    "data_path = os.path.join(img_dir,'*g') \n",
    "files = glob.glob(data_path) \n",
    "data1 = []\n",
    "for f1 in files: \n",
    "    img = cv2.imread(f1,1) \n",
    "    data1.append(img) \n",
    "\n",
    "j = 0\n",
    "for i in data1:\n",
    "    j = j + 1\n",
    "    proc_img(i, j, 17, 9, 7, dire)"
   ]
  },
  {
   "cell_type": "markdown",
   "metadata": {},
   "source": [
    "**6) Criando a Função *obt_ext(img_bgr=imagem, j=número da imagem, Med=Tamanho do Kernel para suavização via mediana, d=Tamanho do Kernel para dilatação do thresh, e=Tamanho do Kernel para erosão do thresh, dire=diretório)* para extração dos objetos das imagens de morango:**"
   ]
  },
  {
   "cell_type": "code",
   "execution_count": 11,
   "metadata": {
    "ExecuteTime": {
     "end_time": "2020-09-01T00:21:01.546890Z",
     "start_time": "2020-09-01T00:21:01.492902Z"
    }
   },
   "outputs": [],
   "source": [
    "def obt_ext(img_bgr, j, med, d, e, dire):\n",
    "    path = r\"{}\\objetos\".format(dire)\n",
    "    if not os.path.exists(path):\n",
    "        os.mkdir(path)\n",
    "    path1 = r\"{}\\dados objetos\".format(dire)\n",
    "    if not os.path.exists(path1):\n",
    "        os.mkdir(path1)\n",
    "    img_bgr = img[100:600, 100:1100]\n",
    "    img_rgb = cv2.cvtColor(img_bgr, cv2.COLOR_BGR2RGB)\n",
    "    B, G, R = cv2.split(img_bgr)\n",
    "    # suavizando a imagem antes de aplicar o thresholding\n",
    "    R1 = cv2.medianBlur(R, med)\n",
    "    (L, mask) = cv2.threshold(R1, 0, 255, cv2.THRESH_BINARY + cv2.THRESH_OTSU)  # Thresholding da imagem\n",
    "    kernel = np.ones((d, d), np.uint8)  # Transformação morfológica do thresh\n",
    "    dilatation = cv2.dilate(mask, kernel)\n",
    "    kernel2 = np.ones((e, e), np.uint8)\n",
    "    erosion = cv2.erode(dilatation, kernel2)\n",
    "    img_seg = cv2.bitwise_and(img_bgr, img_bgr, mask=erosion)\n",
    "    _, cnts, h = cv2.findContours(erosion, cv2.RETR_TREE, cv2.CHAIN_APPROX_SIMPLE)\n",
    "    dimen = []\n",
    "    for (i, c) in enumerate(cnts):\n",
    "\n",
    "            (x, y, w, h) = cv2.boundingRect(c)\n",
    "            obj = mask[y:y+h, x:x+w]\n",
    "            obj_bgr = img_seg[y:y+h, x:x+w]\n",
    "            obj_rgb = cv2.cvtColor(obj_bgr,cv2.COLOR_BGR2RGB)\n",
    "            cv2.imwrite('{}/Morango {} - Objeto {}.png'.format(path,j,i+1), obj_bgr)\n",
    "            \n",
    "            area = cv2.contourArea(c)\n",
    "            razao = round((h/w), 2)\n",
    "            perim = round(cv2.arcLength(c, True), 2)\n",
    "            tam_ret = np.shape(obj)\n",
    "\n",
    "            regiao = regionprops(obj)\n",
    "            rm = round(regiao[0].minor_axis_length, 2)\n",
    "            rmai = round(regiao[0].major_axis_length, 2)\n",
    "            cen = regiao[0].centroid\n",
    "            \n",
    "            min_val_r, max_val_r, min_loc_r, max_loc_r = cv2.minMaxLoc(obj_rgb[:,:,0], mask=obj)\n",
    "            med_val_r = cv2.mean(obj_rgb[:,:,0], mask=obj)\n",
    "\n",
    "            min_val_g, max_val_g, min_loc_g, max_loc_g = cv2.minMaxLoc(obj_rgb[:, :, 1], mask=obj)\n",
    "            med_val_g = cv2.mean(obj_rgb[:,:,1], mask=obj)\n",
    "\n",
    "            min_val_b, max_val_b, min_loc_b, max_loc_b = cv2.minMaxLoc(obj_rgb[:, :, 2], mask=obj)\n",
    "            med_val_b = cv2.mean(obj_rgb[:,:,2], mask=obj)\n",
    "            \n",
    "            dimen += [[str(i + 1), str(h), str(w), str(area), str(razao), str(perim), str(tam_ret), str(rm), str(rmai), str(cen), str(min_val_r), str(max_val_r), str(min_loc_r), str(max_loc_r),str(min_val_b), str(max_val_b), str(min_loc_b), str(max_loc_b), str(min_val_g), str(max_val_g), str(min_loc_g), str(max_loc_g)]]\n",
    "            \n",
    "            dados_obj = pd.DataFrame(dimen)\n",
    "            dados_obj = dados_obj.rename(columns={0: 'Objeto', 1: 'Comprimento', 2: 'Largura', 3: 'Area', 4: 'Razao', 5: 'Perimetro', 6: 'Tamanho', 7:'Eixo Menor', 8:'Eixo Maior', 9:'Centroide', 10:'Max R', 11:'Min R', 12:'Loc Max R', 13:'Loc Min R', 14: 'Max G', 15:'Min G', 16:'Loc Max G', 17:'Loc Min G', 18:'Max B', 19:'Min B', 20:'Loc Max B', 21:'Loc Min B'})\n",
    "            dados_obj.to_csv('{}\\medidas imagem {}.csv'.format(path1,j), index=False)"
   ]
  },
  {
   "cell_type": "markdown",
   "metadata": {},
   "source": [
    "**7) Carregando as imagens da pasta *imagens segmentadas*, aplicando a Função obt_ext(), criando e salvando os objetos processadas na pasta *objetos*. Os dados de cada objeto serão armazenados em uma planilha no formato .csv e armazenados na pasta *dados objetos*:**"
   ]
  },
  {
   "cell_type": "code",
   "execution_count": 12,
   "metadata": {
    "ExecuteTime": {
     "end_time": "2020-09-01T00:21:07.026877Z",
     "start_time": "2020-09-01T00:21:03.320461Z"
    }
   },
   "outputs": [],
   "source": [
    "img_dir = r\"{}\\imagens segmentadas\".format(dire)\n",
    "data_path = os.path.join(img_dir,'*g') \n",
    "files = glob.glob(data_path) \n",
    "data2 = []\n",
    "for f1 in files: \n",
    "    img = cv2.imread(f1,1) \n",
    "    data2.append(img) \n",
    "\n",
    "j = 0\n",
    "for i in data2:\n",
    "    j = j + 1\n",
    "    obt_ext(i, j, 17 , 9, 7, dire)"
   ]
  },
  {
   "cell_type": "markdown",
   "metadata": {},
   "source": [
    "Obs.: Os dados dos objetos/morangos foram unificados manual em um planilha excel e salvo em um arquivo txt nomeado *dados.morango* para realização das análises de variância e correlações."
   ]
  }
 ],
 "metadata": {
  "kernelspec": {
   "display_name": "Python 3",
   "language": "python",
   "name": "python3"
  },
  "language_info": {
   "codemirror_mode": {
    "name": "ipython",
    "version": 3
   },
   "file_extension": ".py",
   "mimetype": "text/x-python",
   "name": "python",
   "nbconvert_exporter": "python",
   "pygments_lexer": "ipython3",
   "version": "3.7.6"
  },
  "latex_envs": {
   "LaTeX_envs_menu_present": true,
   "autoclose": false,
   "autocomplete": true,
   "bibliofile": "biblio.bib",
   "cite_by": "apalike",
   "current_citInitial": 1,
   "eqLabelWithNumbers": true,
   "eqNumInitial": 1,
   "hotkeys": {
    "equation": "Ctrl-E",
    "itemize": "Ctrl-I"
   },
   "labels_anchors": false,
   "latex_user_defs": false,
   "report_style_numbering": false,
   "user_envs_cfg": false
  },
  "toc": {
   "base_numbering": 1,
   "nav_menu": {},
   "number_sections": true,
   "sideBar": true,
   "skip_h1_title": false,
   "title_cell": "Table of Contents",
   "title_sidebar": "Contents",
   "toc_cell": false,
   "toc_position": {},
   "toc_section_display": true,
   "toc_window_display": false
  },
  "varInspector": {
   "cols": {
    "lenName": 16,
    "lenType": 16,
    "lenVar": 40
   },
   "kernels_config": {
    "python": {
     "delete_cmd_postfix": "",
     "delete_cmd_prefix": "del ",
     "library": "var_list.py",
     "varRefreshCmd": "print(var_dic_list())"
    },
    "r": {
     "delete_cmd_postfix": ") ",
     "delete_cmd_prefix": "rm(",
     "library": "var_list.r",
     "varRefreshCmd": "cat(var_dic_list()) "
    }
   },
   "types_to_exclude": [
    "module",
    "function",
    "builtin_function_or_method",
    "instance",
    "_Feature"
   ],
   "window_display": false
  }
 },
 "nbformat": 4,
 "nbformat_minor": 4
}
