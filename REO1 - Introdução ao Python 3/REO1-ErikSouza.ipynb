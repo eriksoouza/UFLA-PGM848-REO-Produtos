{
 "cells": [
  {
   "cell_type": "markdown",
   "metadata": {},
   "source": [
    "Esse script é o produto do REO1 - Lista de exercícios - da disciplina de Avanços em Genética e Melhoramento de Plantas (PGM848) do Período letivo 2020/1.\n",
    "Para mais informações, acesse:\n",
    "    https://github.com/VQCarneiro/Visao-Computacional-no-Melhoramento-de-Plantas"
   ]
  },
  {
   "cell_type": "markdown",
   "metadata": {},
   "source": [
    "<p style=\"text-align: center;\">UNIVERSIDADE FEDERAL DE LAVRAS - UFLA</p>\n",
    "<p style=\"text-align: center;\">DEPARTAMENTO DE BIOLOGIA - DBI</p>\n",
    "<p style=\"text-align: center;\">PROGRAMA DE PÓS-GRADUÇÃO EM GENÉTICA E MELHORAMENTO DE PLANTAS</p>\n",
    "<p style=\"text-align: center;\">DISCIPLINA PGM848 - AVANÇOS CIENTÍFICOS EM GENÉTICA E MELHORAMENTO DE PLANTAS</p>\n",
    "<p style=\"text-align: center;\">DOCENTE DSc. VINÍCIUS QUINTÃO CARNEIRO</p>\n",
    "<p style=\"text-align: center;\">DISCENTE ERIK MICAEL DA SILVA SOUZA</p>\n",
    "<p style=\"text-align: center;\">REO1 - INTRODUÇÃO AO PYTHON 3</p>"
   ]
  },
  {
   "cell_type": "markdown",
   "metadata": {},
   "source": [
    "<p style=\"text-align: center;\">LISTA DE EXERCÍCIOS</p>"
   ]
  },
  {
   "cell_type": "markdown",
   "metadata": {},
   "source": [
    "Obs.: Importar as bibliotecas necessárias para resolução desta lista de exercícios: numpy, math & matplotlib."
   ]
  },
  {
   "cell_type": "code",
   "execution_count": 73,
   "metadata": {
    "scrolled": false
   },
   "outputs": [],
   "source": [
    "import numpy as np\n",
    "import math\n",
    "import matplotlib.pyplot as plt"
   ]
  },
  {
   "cell_type": "markdown",
   "metadata": {},
   "source": [
    "**EXERCÍCIO 01:**\n",
    "\n",
    "**a) Declare os valores 43.5, 150.30, 17, 28, 35, 79, 20, 99.07, 15 como um array numpy.**"
   ]
  },
  {
   "cell_type": "code",
   "execution_count": 74,
   "metadata": {
    "scrolled": false
   },
   "outputs": [
    {
     "name": "stdout",
     "output_type": "stream",
     "text": [
      "Resposta:\n",
      "O meu vetor 1a é composto por [ 43.5  150.3   17.    28.    35.    79.    20.    99.07  15.  ].\n"
     ]
    }
   ],
   "source": [
    "array_1a = np.array([43.5, 150.30, 17, 28, 35, 79, 20, 99.07, 15])\n",
    "print('Resposta:')\n",
    "print('O meu vetor 1a é composto por {}.' .format(array_1a))"
   ]
  },
  {
   "cell_type": "markdown",
   "metadata": {},
   "source": [
    "**b) Obtenha as informações de dimensão, média, máximo, mínimo e variância deste vetor.**"
   ]
  },
  {
   "cell_type": "code",
   "execution_count": 75,
   "metadata": {
    "scrolled": false
   },
   "outputs": [
    {
     "name": "stdout",
     "output_type": "stream",
     "text": [
      "Resposta:\n",
      "Este é um vetor com 9 elementos (dimensão), com média igual a 54.1 e com valores de máximo e minímo iguais a 150.3 e 15.0, respectivamente. Este vetor também apresenta  uma variância igual a 1902.57.\n"
     ]
    }
   ],
   "source": [
    "dim_1a = len(array_1a)\n",
    "mean_1a = np.mean(array_1a)\n",
    "max_1a = max(array_1a)\n",
    "min_1a = min(array_1a)\n",
    "var_1a = np.var(array_1a)\n",
    "print('Resposta:')\n",
    "print('Este é um vetor com {} elementos (dimensão), com média igual a {} e com valores de máximo e minímo iguais a {} e {}, respectivamente. Este vetor também apresenta  uma variância igual a {}.'.format(dim_1a, np.around(mean_1a, 2), max_1a, min_1a, np.around(var_1a, 2)))"
   ]
  },
  {
   "cell_type": "markdown",
   "metadata": {},
   "source": [
    "**c) Obtenha um novo vetor em que cada elemento é dado pelo quadrado da diferença entre cada elemento do vetor declarado na letra a e o valor1 da média deste.**"
   ]
  },
  {
   "cell_type": "code",
   "execution_count": 76,
   "metadata": {
    "scrolled": false
   },
   "outputs": [
    {
     "name": "stdout",
     "output_type": "stream",
     "text": [
      "Resposta:\n",
      "O novo vetor ou vetor 1c é composto por [ 112.29 9255.08 1376.16  681.04  364.68  620.18 1162.58 2022.6  1528.55].\n"
     ]
    }
   ],
   "source": [
    "array_1c = (array_1a - mean_1a)**2\n",
    "print('Resposta:')\n",
    "print('O novo vetor ou vetor 1c é composto por {}.'.format(np.around(array_1c,3)))"
   ]
  },
  {
   "cell_type": "markdown",
   "metadata": {},
   "source": [
    "**d) Obtenha um novo vetor que contenha todos os valores superiores a 30.**"
   ]
  },
  {
   "cell_type": "code",
   "execution_count": 77,
   "metadata": {
    "scrolled": false
   },
   "outputs": [
    {
     "name": "stdout",
     "output_type": "stream",
     "text": [
      "Resposta:\n",
      "O novo vetor apresenta os valores superiores a 30 do vetor 1a e é composto por [ 43.5  150.3   35.    79.    99.07].\n"
     ]
    }
   ],
   "source": [
    "maiorq30 = array_1a > 30\n",
    "array_1d = array_1a[maiorq30] #Filtrar os valores superiores a 30 do vetor 1a.\n",
    "print('Resposta:')\n",
    "print('O novo vetor apresenta os valores superiores a 30 do vetor 1a e é composto por {}.'.format(array_1d))"
   ]
  },
  {
   "cell_type": "markdown",
   "metadata": {},
   "source": [
    "**e) Identifique quais as posições do vetor original possuem valores superiores a 30.**"
   ]
  },
  {
   "cell_type": "code",
   "execution_count": 78,
   "metadata": {
    "scrolled": false
   },
   "outputs": [
    {
     "name": "stdout",
     "output_type": "stream",
     "text": [
      "Resposta:\n",
      "As posições do valores superiores a 30 no vetor 1a são (array([0, 1, 4, 5, 7], dtype=int64),)\n"
     ]
    }
   ],
   "source": [
    "pos_maiorq30 = np.where(array_1a > 30)\n",
    "print('Resposta:')\n",
    "print('As posições do valores superiores a 30 no vetor 1a são {}'.format(pos_maiorq30))"
   ]
  },
  {
   "cell_type": "markdown",
   "metadata": {},
   "source": [
    "**f) Apresente um vetor que contenha os valores da primeira, quinta e última posição.**"
   ]
  },
  {
   "cell_type": "code",
   "execution_count": 79,
   "metadata": {
    "scrolled": false
   },
   "outputs": [
    {
     "name": "stdout",
     "output_type": "stream",
     "text": [
      "Resposta:\n",
      "O vetor 1f apresenta valores dos elementos da primeira, quinta e última posição do vetor 1a, respectivamente, e é composto por [43.5, 35.0, 15.0]\n"
     ]
    }
   ],
   "source": [
    "array_1f = [array_1a[0], array_1a[4], array_1a[-1]] #A base será o vetor 1a\n",
    "print('Resposta:')\n",
    "print('O vetor 1f apresenta valores dos elementos da primeira, quinta e última posição do vetor 1a, respectivamente, e é composto por {}' .format(array_1f))"
   ]
  },
  {
   "cell_type": "markdown",
   "metadata": {},
   "source": [
    "**g) Crie uma estrutura de repetição usando o for para apresentar cada valor e a sua respectiva posição durante as iterações.**"
   ]
  },
  {
   "cell_type": "code",
   "execution_count": 80,
   "metadata": {
    "scrolled": false
   },
   "outputs": [
    {
     "name": "stdout",
     "output_type": "stream",
     "text": [
      "Resposta:\n",
      "Iteração 1\n",
      "O valor 43.5 encontra-se na posição 1.\n",
      "Iteração 2\n",
      "O valor 150.3 encontra-se na posição 2.\n",
      "Iteração 3\n",
      "O valor 17.0 encontra-se na posição 3.\n",
      "Iteração 4\n",
      "O valor 28.0 encontra-se na posição 4.\n",
      "Iteração 5\n",
      "O valor 35.0 encontra-se na posição 5.\n",
      "Iteração 6\n",
      "O valor 79.0 encontra-se na posição 6.\n",
      "Iteração 7\n",
      "O valor 20.0 encontra-se na posição 7.\n",
      "Iteração 8\n",
      "O valor 99.07 encontra-se na posição 8.\n",
      "Iteração 9\n",
      "O valor 15.0 encontra-se na posição 9.\n"
     ]
    }
   ],
   "source": [
    "print('Resposta:')\n",
    "it = 0\n",
    "for i in range(0, len(array_1a), 1): #O total de interações corresponde a dimensão do vetor.\n",
    "    it = it + 1\n",
    "    print('Iteração {}'.format(it))\n",
    "    print('O valor {} encontra-se na posição {}.'.format(array_1a[i],i+1))"
   ]
  },
  {
   "cell_type": "markdown",
   "metadata": {},
   "source": [
    "**h) Crie uma estrutura de repetição usando o for para fazer a soma dos quadrados de cada valor do vetor.**"
   ]
  },
  {
   "cell_type": "code",
   "execution_count": 81,
   "metadata": {
    "scrolled": false
   },
   "outputs": [
    {
     "name": "stdout",
     "output_type": "stream",
     "text": [
      "Resposta:\n",
      "Iteração 1\n",
      "A soma de quadrados do valor da posição 1 do vetor 1a é igual a: 1892.25\n",
      "Iteração 2\n",
      "A soma de quadrados do valor da posição 2 do vetor 1a é igual a: 24482.34\n",
      "Iteração 3\n",
      "A soma de quadrados do valor da posição 3 do vetor 1a é igual a: 24771.34\n",
      "Iteração 4\n",
      "A soma de quadrados do valor da posição 4 do vetor 1a é igual a: 25555.34\n",
      "Iteração 5\n",
      "A soma de quadrados do valor da posição 5 do vetor 1a é igual a: 26780.34\n",
      "Iteração 6\n",
      "A soma de quadrados do valor da posição 6 do vetor 1a é igual a: 33021.34\n",
      "Iteração 7\n",
      "A soma de quadrados do valor da posição 7 do vetor 1a é igual a: 33421.34\n",
      "Iteração 8\n",
      "A soma de quadrados do valor da posição 8 do vetor 1a é igual a: 43236.2\n",
      "Iteração 9\n",
      "A soma de quadrados do valor da posição 9 do vetor 1a é igual a: 43461.2\n"
     ]
    }
   ],
   "source": [
    "print('Resposta:')\n",
    "it = 0\n",
    "for i in range(0, len(array_1a)):\n",
    "    it = it + 1\n",
    "    print('Iteração {}'.format(it))\n",
    "    print('A soma de quadrados do valor da posição {} do vetor 1a é igual a: {}'.format(i+1,np.around(sum(array_1a[:i+1]**2), 2)))"
   ]
  },
  {
   "cell_type": "markdown",
   "metadata": {},
   "source": [
    "**i) Crie uma estrutura de repetição usando o while para apresentar todos os valores do vetor.**"
   ]
  },
  {
   "cell_type": "code",
   "execution_count": 82,
   "metadata": {
    "scrolled": false
   },
   "outputs": [
    {
     "name": "stdout",
     "output_type": "stream",
     "text": [
      "Resposta:\n",
      "O elemento na posição 1 é igual a 43.5.\n",
      "O elemento na posição 2 é igual a 150.3.\n",
      "O elemento na posição 3 é igual a 17.0.\n",
      "O elemento na posição 4 é igual a 28.0.\n",
      "O elemento na posição 5 é igual a 35.0.\n",
      "O elemento na posição 6 é igual a 79.0.\n",
      "O elemento na posição 7 é igual a 20.0.\n",
      "O elemento na posição 8 é igual a 99.07.\n",
      "O elemento na posição 9 é igual a 15.0.\n"
     ]
    }
   ],
   "source": [
    "print('Resposta:')\n",
    "pos = 0\n",
    "while array_1a[pos] != 100:\n",
    "    print('O elemento na posição {} é igual a {}.' .format(pos+1,array_1a[pos]))\n",
    "    pos = pos+1\n",
    "    if pos == len(array_1a):\n",
    "        break"
   ]
  },
  {
   "cell_type": "markdown",
   "metadata": {},
   "source": [
    "**j) Crie um sequência de valores com mesmo tamanho do vetor original e que inicie em 1 e o passo seja também 1.**"
   ]
  },
  {
   "cell_type": "code",
   "execution_count": 83,
   "metadata": {
    "scrolled": false
   },
   "outputs": [
    {
     "name": "stdout",
     "output_type": "stream",
     "text": [
      "Resposta:\n",
      "A sequência de valores é [1 2 3 4 5 6 7 8 9].\n"
     ]
    }
   ],
   "source": [
    "seq = range(1, len(array_1a)+1, 1)\n",
    "array_1j = np.array(seq)\n",
    "print('Resposta:')\n",
    "print('A sequência de valores é {}.'.format(array_1j))"
   ]
  },
  {
   "cell_type": "markdown",
   "metadata": {},
   "source": [
    "**h) Concatene o vetor da letra a com o vetor da letra j.**"
   ]
  },
  {
   "cell_type": "code",
   "execution_count": 84,
   "metadata": {
    "scrolled": false
   },
   "outputs": [
    {
     "name": "stdout",
     "output_type": "stream",
     "text": [
      "Resposta:\n",
      "Vetor da letra a com o vetor da letra j é composto por [ 43.5  150.3   17.    28.    35.    79.    20.    99.07  15.     1.\n",
      "   2.     3.     4.     5.     6.     7.     8.     9.  ].\n"
     ]
    }
   ],
   "source": [
    "array_1h = np.concatenate((array_1a, array_1j))\n",
    "print('Resposta:')\n",
    "print('Vetor da letra a com o vetor da letra j é composto por {}.'.format(array_1h))"
   ]
  },
  {
   "cell_type": "markdown",
   "metadata": {},
   "source": [
    "**EXERCÍCIO 02:**\n",
    "\n",
    "**a) Declare a matriz abaixo com a biblioteca numpy.**"
   ]
  },
  {
   "cell_type": "code",
   "execution_count": 85,
   "metadata": {
    "scrolled": false
   },
   "outputs": [
    {
     "name": "stdout",
     "output_type": "stream",
     "text": [
      "Resposta:\n",
      "A matriz:\n",
      "[[ 1  3 22]\n",
      " [ 2  8 18]\n",
      " [ 3  4 22]\n",
      " [ 4  1 23]\n",
      " [ 5  2 52]\n",
      " [ 6  2 18]\n",
      " [ 7  2 25]]\n"
     ]
    }
   ],
   "source": [
    "array_2a = np.array([[1, 3, 22], [2, 8, 18], [3, 4, 22], [4, 1, 23], [5, 2, 52], [6, 2, 18], [7, 2, 25]])\n",
    "print('Resposta:')\n",
    "print('A matriz:')\n",
    "print(array_2a)"
   ]
  },
  {
   "cell_type": "markdown",
   "metadata": {},
   "source": [
    "**b) Obtenha o número de linhas e de colunas desta matriz.**"
   ]
  },
  {
   "cell_type": "code",
   "execution_count": 86,
   "metadata": {
    "scrolled": false
   },
   "outputs": [
    {
     "name": "stdout",
     "output_type": "stream",
     "text": [
      "Resposta:\n",
      "A matriz deste apresenta 7 linhas e 3 colunas, isto é, uma matriz 7x3.\n"
     ]
    }
   ],
   "source": [
    "nlinhas,ncolunas = np.shape(array_2a)\n",
    "print('Resposta:')\n",
    "print('A matriz deste apresenta {} linhas e {} colunas, isto é, uma matriz {}x{}.'.format(nlinhas, ncolunas, nlinhas, ncolunas))"
   ]
  },
  {
   "cell_type": "markdown",
   "metadata": {},
   "source": [
    "**c) Obtenha as médias das colunas 2 e 3.**"
   ]
  },
  {
   "cell_type": "code",
   "execution_count": 87,
   "metadata": {
    "scrolled": false
   },
   "outputs": [
    {
     "name": "stdout",
     "output_type": "stream",
     "text": [
      "Resposta:\n",
      "A média da coluna 2 da matriz é igual a 3.14 .\n",
      "A média da coluna 3 da matriz é igual a 25.71 .\n"
     ]
    }
   ],
   "source": [
    "print('Resposta:')\n",
    "for i in range(1, ncolunas, 1): #Este comando para repetir a operação.\n",
    "    print('A média da coluna {} da matriz é igual a {} .' .format(i+1, np.around(np.mean(array_2a[:, i]), 2)))"
   ]
  },
  {
   "cell_type": "markdown",
   "metadata": {},
   "source": [
    "**d) Obtenha as médias das linhas considerando somente as colunas 2 e 3.**"
   ]
  },
  {
   "cell_type": "code",
   "execution_count": 88,
   "metadata": {
    "scrolled": false
   },
   "outputs": [
    {
     "name": "stdout",
     "output_type": "stream",
     "text": [
      "Resposta:\n",
      "Considerando apenas as colunas 2 e 3, a média da linha 1 é igual a 12.5.\n",
      "Considerando apenas as colunas 2 e 3, a média da linha 2 é igual a 13.0.\n",
      "Considerando apenas as colunas 2 e 3, a média da linha 3 é igual a 13.0.\n",
      "Considerando apenas as colunas 2 e 3, a média da linha 4 é igual a 12.0.\n",
      "Considerando apenas as colunas 2 e 3, a média da linha 5 é igual a 27.0.\n",
      "Considerando apenas as colunas 2 e 3, a média da linha 6 é igual a 10.0.\n",
      "Considerando apenas as colunas 2 e 3, a média da linha 7 é igual a 13.5.\n"
     ]
    }
   ],
   "source": [
    "print('Resposta:')\n",
    "for i in range(0, nlinhas, 1):\n",
    "    print('Considerando apenas as colunas 2 e 3, a média da linha {} é igual a {}.' .format(i+1, (np.mean(array_2a[i,[1, 2]]))))"
   ]
  },
  {
   "cell_type": "markdown",
   "metadata": {},
   "source": [
    "**e) Considerando que a primeira coluna seja a identificação de genótipos, a segunda nota de severidade de uma doença e a terceira peso de 100 grãos. Obtenha os genótipos que possuem nota de severidade inferior a 5.**"
   ]
  },
  {
   "cell_type": "code",
   "execution_count": 89,
   "metadata": {
    "scrolled": false
   },
   "outputs": [
    {
     "name": "stdout",
     "output_type": "stream",
     "text": [
      "Resposta:\n",
      "De acordo com a escala de nota de severidade, os genótipos [1 3 4 5 6 7] apresentaram nota inferior a 5 para a doença em estudo.\n"
     ]
    }
   ],
   "source": [
    "nota_menorq5 = array_2a[:, 1] < 5\n",
    "array_2e = array_2a[nota_menorq5]\n",
    "print('Resposta:')\n",
    "print('De acordo com a escala de nota de severidade, os genótipos {} apresentaram nota inferior a 5 para a doença em estudo.'.format(array_2e[:, 0]))"
   ]
  },
  {
   "cell_type": "markdown",
   "metadata": {},
   "source": [
    "**f) Considerando que a primeira coluna seja a identificação de genótipos, a segunda nota de severidade de uma doença e a terceira peso de 100 grãos. Obtenha os genótipos que possuem nota de peso de 100 grãos superior ou igual a 22.**"
   ]
  },
  {
   "cell_type": "code",
   "execution_count": 90,
   "metadata": {
    "scrolled": false
   },
   "outputs": [
    {
     "name": "stdout",
     "output_type": "stream",
     "text": [
      "Resposta:\n",
      "De acordo com o peso de 100 grãos, os genótipos [1 3 4 5 7] apresentaram peso superior ou igual a 22.\n"
     ]
    }
   ],
   "source": [
    "peso_maiorigual22 = array_2a[:, 2] >= 22\n",
    "array_2f = array_2a[peso_maiorigual22]\n",
    "print('Resposta:')\n",
    "print('De acordo com o peso de 100 grãos, os genótipos {} apresentaram peso superior ou igual a 22.'.format(array_2f[:, 0]))"
   ]
  },
  {
   "cell_type": "markdown",
   "metadata": {},
   "source": [
    "**g) Considerando que a primeira coluna seja a identificação de genótipos, a segunda nota de severidade de uma doença e a terceira peso de 100 grãos. Obtenha os genótipos que possuem nota de severidade igual ou inferior a 3 e peso de 100 grãos igual ou superior a 22.**"
   ]
  },
  {
   "cell_type": "code",
   "execution_count": 91,
   "metadata": {
    "scrolled": false
   },
   "outputs": [
    {
     "name": "stdout",
     "output_type": "stream",
     "text": [
      "Resposta:\n",
      "Neste estudo, os genótipos [2 1 1 2 1 1 1] apresentaram nota de severidade da doença inferior ou igual a 3 e peso de 100 grãos superior ou igual a 22.\n"
     ]
    }
   ],
   "source": [
    "nota_menorigual3 = array_2a[:, 1]\n",
    "array_2g = array_2a[nota_menorigual3 & peso_maiorigual22]\n",
    "print('Resposta:')\n",
    "print('Neste estudo, os genótipos {} apresentaram nota de severidade da doença inferior ou igual a 3 e peso de 100 grãos superior ou igual a 22.'.format(array_2g[:,0]))"
   ]
  },
  {
   "cell_type": "markdown",
   "metadata": {},
   "source": [
    "**h) Crie uma estrutura de repetição com uso do for (loop) para apresentar na tela cada uma das posições da matriz e o seu respectivo valor. Utilize um iterador para mostrar ao usuário quantas vezes está sendo repetido. Apresente a seguinte mensagem a cada iteração: Na linha X e na coluna Y ocorre o valor: Z. Nesta estrutura crie uma lista que armazene os genótipos com peso de 100 grãos igual ou superior a 25.**"
   ]
  },
  {
   "cell_type": "code",
   "execution_count": 92,
   "metadata": {
    "scrolled": false
   },
   "outputs": [
    {
     "name": "stdout",
     "output_type": "stream",
     "text": [
      " \n",
      "Resposta:\n",
      "___ Iteração 1 ___\n",
      "Na linha 1 e na coluna 1 ocorre o valor 1.\n",
      "___ Iteração 2 ___\n",
      "Na linha 1 e na coluna 2 ocorre o valor 3.\n",
      "___ Iteração 3 ___\n",
      "Na linha 1 e na coluna 3 ocorre o valor 22.\n",
      "___ Iteração 4 ___\n",
      "Na linha 2 e na coluna 1 ocorre o valor 2.\n",
      "___ Iteração 5 ___\n",
      "Na linha 2 e na coluna 2 ocorre o valor 8.\n",
      "___ Iteração 6 ___\n",
      "Na linha 2 e na coluna 3 ocorre o valor 18.\n",
      "___ Iteração 7 ___\n",
      "Na linha 3 e na coluna 1 ocorre o valor 3.\n",
      "___ Iteração 8 ___\n",
      "Na linha 3 e na coluna 2 ocorre o valor 4.\n",
      "___ Iteração 9 ___\n",
      "Na linha 3 e na coluna 3 ocorre o valor 22.\n",
      "___ Iteração 10 ___\n",
      "Na linha 4 e na coluna 1 ocorre o valor 4.\n",
      "___ Iteração 11 ___\n",
      "Na linha 4 e na coluna 2 ocorre o valor 1.\n",
      "___ Iteração 12 ___\n",
      "Na linha 4 e na coluna 3 ocorre o valor 23.\n",
      "___ Iteração 13 ___\n",
      "Na linha 5 e na coluna 1 ocorre o valor 5.\n",
      "___ Iteração 14 ___\n",
      "Na linha 5 e na coluna 2 ocorre o valor 2.\n",
      "___ Iteração 15 ___\n",
      "Na linha 5 e na coluna 3 ocorre o valor 52.\n",
      "___ Iteração 16 ___\n",
      "Na linha 6 e na coluna 1 ocorre o valor 6.\n",
      "___ Iteração 17 ___\n",
      "Na linha 6 e na coluna 2 ocorre o valor 2.\n",
      "___ Iteração 18 ___\n",
      "Na linha 6 e na coluna 3 ocorre o valor 18.\n",
      "___ Iteração 19 ___\n",
      "Na linha 7 e na coluna 1 ocorre o valor 7.\n",
      "___ Iteração 20 ___\n",
      "Na linha 7 e na coluna 2 ocorre o valor 2.\n",
      "___ Iteração 21 ___\n",
      "Na linha 7 e na coluna 3 ocorre o valor 25.\n",
      " \n",
      "De acordo com o peso de 100 grãos, os genótipos [5 7] apresentaram peso superior ou igual a 25.\n"
     ]
    }
   ],
   "source": [
    "print(' ')\n",
    "print('Resposta:')\n",
    "itr = 0\n",
    "for i in np.arange(0, nlinhas, 1):\n",
    "    for j in np.arange(0, ncolunas, 1):\n",
    "        itr = itr + 1\n",
    "        print('___ Iteração {} ___'.format(itr))\n",
    "        print('Na linha {} e na coluna {} ocorre o valor {}.'.format(i+1, j+1, array_2a[int(i), int(j)]))\n",
    "\n",
    "print(' ')       \n",
    "peso_maiorigual25 = (array_2a[:, 2] >= 25)\n",
    "array_2h = (array_2a[peso_maiorigual25])\n",
    "print('De acordo com o peso de 100 grãos, os genótipos {} apresentaram peso superior ou igual a 25.'.format(array_2h[:,0]))"
   ]
  },
  {
   "cell_type": "markdown",
   "metadata": {},
   "source": [
    "**EXERCÍCIO 03:**\n",
    "\n",
    "**a) Crie uma função em um arquivo externo (outro arquivo .py) para calcular a média e a variância amostral um vetor qualquer, baseada em um lopp (for).**"
   ]
  },
  {
   "cell_type": "code",
   "execution_count": 93,
   "metadata": {
    "scrolled": false
   },
   "outputs": [
    {
     "name": "stdout",
     "output_type": "stream",
     "text": [
      "Resposta:\n",
      "Vetor: [0, 1, 2, 3, 4, 5, 6, 7, 8, 9]\n",
      "Tamanho da Amostra: 5\n",
      "-----------------------------------------------------------------------------------------------------------------\n",
      "Amostragem: 1\n",
      "Vetor: [0, 1, 2, 3, 4, 5, 6, 7, 8, 9]\n",
      "Tamanho da Amostra: 5\n",
      "Amostra:[3, 4, 7, 5, 1]\n",
      "Média: 4.0\n",
      "Variância: 4.0\n",
      "-----------------------------------------------------------------------------------------------------------------\n",
      "Amostragem: 2\n",
      "Vetor: [0, 1, 2, 3, 4, 5, 6, 7, 8, 9]\n",
      "Tamanho da Amostra: 5\n",
      "Amostra:[9, 4, 7, 6, 0]\n",
      "Média: 5.2\n",
      "Variância: 9.36\n",
      "-----------------------------------------------------------------------------------------------------------------\n",
      "Amostragem: 3\n",
      "Vetor: [0, 1, 2, 3, 4, 5, 6, 7, 8, 9]\n",
      "Tamanho da Amostra: 5\n",
      "Amostra:[3, 0, 1, 8, 4]\n",
      "Média: 3.2\n",
      "Variância: 7.760000000000001\n",
      "-----------------------------------------------------------------------------------------------------------------\n",
      "Amostragem: 4\n",
      "Vetor: [0, 1, 2, 3, 4, 5, 6, 7, 8, 9]\n",
      "Tamanho da Amostra: 5\n",
      "Amostra:[0, 3, 9, 8, 4]\n",
      "Média: 4.8\n",
      "Variância: 10.96\n",
      "-----------------------------------------------------------------------------------------------------------------\n",
      "Amostragem: 5\n",
      "Vetor: [0, 1, 2, 3, 4, 5, 6, 7, 8, 9]\n",
      "Tamanho da Amostra: 5\n",
      "Amostra:[7, 1, 3, 9, 8]\n",
      "Média: 5.6\n",
      "Variância: 9.440000000000001\n"
     ]
    }
   ],
   "source": [
    "print('Resposta:')\n",
    "from fcREO1 import amostrar\n",
    "array_3a = amostrar(np.array([0, 1, 2, 3, 4, 5, 6, 7, 8, 9]),tamanho_amostra=5,numero_amostragens = 5)"
   ]
  },
  {
   "cell_type": "markdown",
   "metadata": {},
   "source": [
    "**b) Simule três arrays com a biblioteca numpy de 10, 100, e 1000 valores e com distribuição normal com média 100 e variância 2500. Pesquise na documentação do numpy por funções de simulação.**"
   ]
  },
  {
   "cell_type": "code",
   "execution_count": 94,
   "metadata": {
    "scrolled": false
   },
   "outputs": [
    {
     "name": "stdout",
     "output_type": "stream",
     "text": [
      "Resposta:\n",
      "array_3b1 = np.random.normal(100, math.sqrt(2500), 10) # Array criado com 10 valores.\n",
      "array_3b2 = np.random.normal(100, math.sqrt(2500), 100) # Array criado com 100 valores.\n",
      "array_3b3 = np.random.normal(100, math.sqrt(2500), 1000) # Array criado com 1000 valores.\n"
     ]
    }
   ],
   "source": [
    "array_3b1 = np.random.normal(100, math.sqrt(2500), 10)#Array com 10 valores\n",
    "array_3b2 = np.random.normal(100, math.sqrt(2500), 100)#Array com 100 valores\n",
    "array_3b3 = np.random.normal(100, math.sqrt(2500), 1000)#Array com 100 valores\n",
    "print('Resposta:')\n",
    "print('array_3b1 = np.random.normal(100, math.sqrt(2500), 10) # Array criado com 10 valores.')\n",
    "print('array_3b2 = np.random.normal(100, math.sqrt(2500), 100) # Array criado com 100 valores.')\n",
    "print('array_3b3 = np.random.normal(100, math.sqrt(2500), 1000) # Array criado com 1000 valores.')"
   ]
  },
  {
   "cell_type": "markdown",
   "metadata": {},
   "source": [
    "**c) Utilize a função criada na letra a para obter as médias e variâncias dos vetores simulados na letra b.**"
   ]
  },
  {
   "cell_type": "code",
   "execution_count": 95,
   "metadata": {
    "scrolled": false
   },
   "outputs": [
    {
     "name": "stdout",
     "output_type": "stream",
     "text": [
      "Resposta:\n",
      "Utilizando o array_3b1:\n",
      " \n",
      "Vetor: [136.56044016006257, 93.20592021030075, 64.35156169341168, 58.96560189091956, 184.41578429465503, 19.289372443775918, 123.06268719186873, 234.56825050268384, 130.5383345019767, 51.97762241460664]\n",
      "Tamanho da Amostra: 10\n",
      "-----------------------------------------------------------------------------------------------------------------\n",
      "Amostragem: 1\n",
      "Vetor: [136.56044016006257, 93.20592021030075, 64.35156169341168, 58.96560189091956, 184.41578429465503, 19.289372443775918, 123.06268719186873, 234.56825050268384, 130.5383345019767, 51.97762241460664]\n",
      "Tamanho da Amostra: 10\n",
      "Amostra:[123.06268719186873, 136.56044016006257, 130.5383345019767, 184.41578429465503, 51.97762241460664, 64.35156169341168, 234.56825050268384, 19.289372443775918, 93.20592021030075, 58.96560189091956]\n",
      "Média: 109.69355753042615\n",
      "Variância: 3891.7277956375647\n",
      " \n",
      "Utilizando o array_3b2:\n",
      " \n",
      " \n",
      "Utilizando o array_3b3:\n",
      " \n"
     ]
    }
   ],
   "source": [
    "print('Resposta:')\n",
    "print('Utilizando o array_3b1:')\n",
    "print(' ')\n",
    "array_3c1 = amostrar(array_3b1, 10, 1) #informações da função amostrar(vetor, tamanho da amostra, número de amostragens)\n",
    "print(' ')\n",
    "print('Utilizando o array_3b2:')\n",
    "print(' ')\n",
    "#array_3c1 = amostrar(array_3b2, 100, 1) # Para não afetar na estética do trabalho, optei por não executar a amostra (muito grande).\n",
    "print(' ')\n",
    "print('Utilizando o array_3b3:')\n",
    "print(' ')\n",
    "#array_3c1 = amostrar(array_3b3, 1000, 1) # Para não afetar na estética do trabalho, optei por não executar a amostra (muito grande)."
   ]
  },
  {
   "cell_type": "markdown",
   "metadata": {},
   "source": [
    "**d) Crie histogramas com a biblioteca matplotlib dos vetores simulados com valores de 10, 100, 1000 e 100000.**"
   ]
  },
  {
   "cell_type": "code",
   "execution_count": 96,
   "metadata": {
    "scrolled": false
   },
   "outputs": [
    {
     "name": "stdout",
     "output_type": "stream",
     "text": [
      "Resposta:\n",
      "h10 = plt.hist(array_3b1)\n",
      "h100 = plt.hist(array_3b2)\n",
      "h1000 = plt.hist(array_3b3)\n",
      "h10000 = plt.hist(np.random.normal(100, math.sqrt(2500), 10000))\n"
     ]
    },
    {
     "data": {
      "image/png": "[encoded data removed]",
      "text/plain": [
       "<Figure size 432x288 with 4 Axes>"
      ]
     },
     "metadata": {},
     "output_type": "display_data"
    }
   ],
   "source": [
    "print('Resposta:')\n",
    "print('h10 = plt.hist(array_3b1)')\n",
    "print('h100 = plt.hist(array_3b2)')\n",
    "print('h1000 = plt.hist(array_3b3)')\n",
    "print('h10000 = plt.hist(np.random.normal(100, math.sqrt(2500), 10000))')\n",
    "fig, axes = plt.subplots(nrows=2, ncols=2)\n",
    "ax0, ax1, ax2, ax3 = axes.flatten()\n",
    "ax0.hist(array_3b1, color=\"tab:purple\")\n",
    "ax0.set_title('Tamanho amostral (n) = 10')\n",
    "ax1.hist(array_3b2, color=\"tab:red\")\n",
    "ax1.set_title('Tamanho amostral (n) = 100')\n",
    "ax2.hist(array_3b3, color=\"tab:orange\")\n",
    "ax2.set_title('Tamanho amostral (n) = 1000')\n",
    "ax3.hist(np.random.normal(100, math.sqrt(2500), 10000), color=\"tab:blue\")\n",
    "ax3.set_title('Tamanho amostral (n) = 10000')\n",
    "fig.tight_layout()\n",
    "plt.show()"
   ]
  },
  {
   "cell_type": "markdown",
   "metadata": {},
   "source": [
    "**EXERCÍCIO 04:**\n",
    "\n",
    "**a) O arquivo dados.txt contem a avaliação de genótipos (primeira coluna) em repetições (segunda coluna) quanto a quatro variáveis (terceira coluna em diante). Portanto, carregue o arquivo dados.txt com a biblioteca numpy, apresente os dados e obtenha as informações de dimensão desta matriz.**"
   ]
  },
  {
   "cell_type": "code",
   "execution_count": 97,
   "metadata": {
    "scrolled": false
   },
   "outputs": [
    {
     "name": "stdout",
     "output_type": "stream",
     "text": [
      "Resposta: \n",
      "Conjunto de dados\n",
      "    Gen    Rep    v1     v2     v3     v4     v5\n",
      "[[  1.     1.   249.75 604.15 404.48 348.49 281.31]\n",
      " [  1.     2.   227.56 527.36 414.52 324.32 210.29]\n",
      " [  1.     3.   368.18 711.87 490.14 331.84 297.12]\n",
      " [  2.     1.   615.42 548.   359.91 376.66 593.01]\n",
      " [  2.     2.   756.11  59.78 363.74 351.99 523.45]\n",
      " [  2.     3.   481.54 464.04 415.98 317.41 447.33]\n",
      " [  3.     1.   610.4  529.91 389.65 385.01 253.22]\n",
      " [  3.     2.   534.73 436.4  439.23 400.99 241.25]\n",
      " [  3.     3.   488.87 277.88 414.9  367.    77.56]\n",
      " [  4.     1.   587.84 186.9  399.76 556.27  55.25]\n",
      " [  4.     2.   627.27 478.44 470.98 501.1  312.92]\n",
      " [  4.     3.   594.91 454.6  409.16 429.03 268.36]\n",
      " [  5.     1.   358.48 480.34 530.92 273.63 321.65]\n",
      " [  5.     2.   341.18 238.63 414.71 344.45 370.12]\n",
      " [  5.     3.   409.65 537.39 566.61 278.46 417.95]\n",
      " [  6.     1.   530.4  430.57 309.84 245.79 552.34]\n",
      " [  6.     2.   644.79 352.27 311.07 226.46 437.38]\n",
      " [  6.     3.   619.42 256.4  287.13 294.35 714.34]\n",
      " [  7.     1.   592.22 563.79 298.57 260.88 508.33]\n",
      " [  7.     2.   588.89 862.62 502.44 260.02 351.95]\n",
      " [  7.     3.   627.72 521.22 400.76 256.94 432.98]\n",
      " [  8.     1.   605.05 420.44 303.72 265.78 549.18]\n",
      " [  8.     2.   620.72 519.95 303.81 321.96 451.01]\n",
      " [  8.     3.   711.55 375.29 274.21 227.   459.69]\n",
      " [  9.     1.   493.93 425.79 361.44 300.38  29.6 ]\n",
      " [  9.     2.   457.53 450.88 335.19 286.33 239.92]\n",
      " [  9.     3.   366.9  264.96 434.37 285.1   14.92]\n",
      " [ 10.     1.   479.98 611.18 302.2  336.88 700.12]\n",
      " [ 10.     2.   671.5  372.21 270.94 302.4  461.48]\n",
      " [ 10.     3.   471.44 284.37 300.48 383.68 851.41]]\n",
      " \n",
      "Dimensões dos conjunto de dados\n",
      "Número de linhas: 30\n",
      "Número de colunas: 7\n"
     ]
    }
   ],
   "source": [
    "print('Resposta: ')\n",
    "dados = np.loadtxt('dados.txt')\n",
    "#dados = np.array([1,1,249.75,604.15,404.48,348.49,281.31],[1,2,227.56,527.36,414.52,324.32,210.29],[1,3,368.18,711.87,490.14,331.84,297.12],[2,1,615.42,548.00,359.91,376.66,593.01],[2,2,756.11,59.78, 363.74,351.99,523.45],[2,3,481.54,464.04,415.98,317.41,447.33],[3,1,610.40,529.91,389.65,385.01,253.22],[3,2,534.73,436.40,439.23,400.99,241.25],[3,3,488.87,277.88,414.90,367.00,77.56],[4,1,587.84,186.90,399.76,556.27,55.25],[4,2,627.27,478.44,470.98,501.10,312.92],[4,3,594.91,454.60,409.16,429.03,268.36],[5,1,358.48,480.34,530.92,273.63,321.65],[5,2,341.18,238.63,414.71,344.45,370.12],[5,3,409.65,537.39,566.61,278.46,417.95],[6,1,530.40,430.57,309.84,245.79,552.34],[6,2,644.79,352.27,311.07,226.46,437.38],[6,3,619.42,256.40,287.13,294.35,714.34],[7,1,592.22,563.79,298.57,260.88,508.33],[7,2,588.89,862.62,502.44,260.02,351.95],[7,3,627.72,521.22,400.76,256.94,432.98],[8,1,605.05,420.44,303.72,265.78,549.18],[8,2,620.72,519.95,303.81,321.96,451.01],[8,3,711.55,375.29,274.21,227.00,459.69],[9,1,493.93,425.79,361.44,300.38,29.60],[9,2,457.53,450.88,335.19,286.33,239.92],[9,3,366.90,264.96,434.37,285.10,14.92],[10,1, 479.98,611.18,302.20,336.88,700.12],[10,2,671.50,372.21,270.94,302.40,461.48],[10,3, 471.44,284.37,300.48,383.68,851.41])\n",
    "print('Conjunto de dados')\n",
    "print('    Gen    Rep    v1     v2     v3     v4     v5')\n",
    "np.set_printoptions(precision=2)\n",
    "np.set_printoptions(suppress=True)\n",
    "print(str(dados))\n",
    "print(' ')\n",
    "print('Dimensões dos conjunto de dados')\n",
    "nlin, ncol = dados.shape\n",
    "print('Número de linhas: {}'.format(nlin))\n",
    "print('Número de colunas: {}'.format(ncol))"
   ]
  },
  {
   "cell_type": "markdown",
   "metadata": {},
   "source": [
    "**b) Pesquise sobre as funções np.unique e np.where da biblioteca numpy.**"
   ]
  },
  {
   "cell_type": "code",
   "execution_count": 98,
   "metadata": {
    "scrolled": true
   },
   "outputs": [
    {
     "name": "stdout",
     "output_type": "stream",
     "text": [
      "Resposta:\n",
      "help(np.unique) <- Este comando dará as instruções em inglês sobre a função np.unique da biblioteca numpy.\n",
      " \n",
      "Help on function unique in module numpy:\n",
      "\n",
      "unique(ar, return_index=False, return_inverse=False, return_counts=False, axis=None)\n",
      "    Find the unique elements of an array.\n",
      "    \n",
      "    Returns the sorted unique elements of an array. There are three optional\n",
      "    outputs in addition to the unique elements:\n",
      "    \n",
      "    * the indices of the input array that give the unique values\n",
      "    * the indices of the unique array that reconstruct the input array\n",
      "    * the number of times each unique value comes up in the input array\n",
      "    \n",
      "    Parameters\n",
      "    ----------\n",
      "    ar : array_like\n",
      "        Input array. Unless `axis` is specified, this will be flattened if it\n",
      "        is not already 1-D.\n",
      "    return_index : bool, optional\n",
      "        If True, also return the indices of `ar` (along the specified axis,\n",
      "        if provided, or in the flattened array) that result in the unique array.\n",
      "    return_inverse : bool, optional\n",
      "        If True, also return the indices of the unique array (for the specified\n",
      "        axis, if provided) that can be used to reconstruct `ar`.\n",
      "    return_counts : bool, optional\n",
      "        If True, also return the number of times each unique item appears\n",
      "        in `ar`.\n",
      "    \n",
      "        .. versionadded:: 1.9.0\n",
      "    \n",
      "    axis : int or None, optional\n",
      "        The axis to operate on. If None, `ar` will be flattened. If an integer,\n",
      "        the subarrays indexed by the given axis will be flattened and treated\n",
      "        as the elements of a 1-D array with the dimension of the given axis,\n",
      "        see the notes for more details.  Object arrays or structured arrays\n",
      "        that contain objects are not supported if the `axis` kwarg is used. The\n",
      "        default is None.\n",
      "    \n",
      "        .. versionadded:: 1.13.0\n",
      "    \n",
      "    Returns\n",
      "    -------\n",
      "    unique : ndarray\n",
      "        The sorted unique values.\n",
      "    unique_indices : ndarray, optional\n",
      "        The indices of the first occurrences of the unique values in the\n",
      "        original array. Only provided if `return_index` is True.\n",
      "    unique_inverse : ndarray, optional\n",
      "        The indices to reconstruct the original array from the\n",
      "        unique array. Only provided if `return_inverse` is True.\n",
      "    unique_counts : ndarray, optional\n",
      "        The number of times each of the unique values comes up in the\n",
      "        original array. Only provided if `return_counts` is True.\n",
      "    \n",
      "        .. versionadded:: 1.9.0\n",
      "    \n",
      "    See Also\n",
      "    --------\n",
      "    numpy.lib.arraysetops : Module with a number of other functions for\n",
      "                            performing set operations on arrays.\n",
      "    \n",
      "    Notes\n",
      "    -----\n",
      "    When an axis is specified the subarrays indexed by the axis are sorted.\n",
      "    This is done by making the specified axis the first dimension of the array\n",
      "    (move the axis to the first dimension to keep the order of the other axes)\n",
      "    and then flattening the subarrays in C order. The flattened subarrays are\n",
      "    then viewed as a structured type with each element given a label, with the\n",
      "    effect that we end up with a 1-D array of structured types that can be\n",
      "    treated in the same way as any other 1-D array. The result is that the\n",
      "    flattened subarrays are sorted in lexicographic order starting with the\n",
      "    first element.\n",
      "    \n",
      "    Examples\n",
      "    --------\n",
      "    >>> np.unique([1, 1, 2, 2, 3, 3])\n",
      "    array([1, 2, 3])\n",
      "    >>> a = np.array([[1, 1], [2, 3]])\n",
      "    >>> np.unique(a)\n",
      "    array([1, 2, 3])\n",
      "    \n",
      "    Return the unique rows of a 2D array\n",
      "    \n",
      "    >>> a = np.array([[1, 0, 0], [1, 0, 0], [2, 3, 4]])\n",
      "    >>> np.unique(a, axis=0)\n",
      "    array([[1, 0, 0], [2, 3, 4]])\n",
      "    \n",
      "    Return the indices of the original array that give the unique values:\n",
      "    \n",
      "    >>> a = np.array(['a', 'b', 'b', 'c', 'a'])\n",
      "    >>> u, indices = np.unique(a, return_index=True)\n",
      "    >>> u\n",
      "    array(['a', 'b', 'c'], dtype='<U1')\n",
      "    >>> indices\n",
      "    array([0, 1, 3])\n",
      "    >>> a[indices]\n",
      "    array(['a', 'b', 'c'], dtype='<U1')\n",
      "    \n",
      "    Reconstruct the input array from the unique values:\n",
      "    \n",
      "    >>> a = np.array([1, 2, 6, 4, 2, 3, 2])\n",
      "    >>> u, indices = np.unique(a, return_inverse=True)\n",
      "    >>> u\n",
      "    array([1, 2, 3, 4, 6])\n",
      "    >>> indices\n",
      "    array([0, 1, 4, ..., 1, 2, 1])\n",
      "    >>> u[indices]\n",
      "    array([1, 2, 6, ..., 2, 3, 2])\n",
      "\n",
      " \n",
      "help(np.where) <- Este comando dará as instruções em inglês sobre a função np.where da biblioteca numpy.\n",
      " \n",
      "Help on function where in module numpy:\n",
      "\n",
      "where(...)\n",
      "    where(condition, [x, y])\n",
      "    \n",
      "    Return elements chosen from `x` or `y` depending on `condition`.\n",
      "    \n",
      "    .. note::\n",
      "        When only `condition` is provided, this function is a shorthand for\n",
      "        ``np.asarray(condition).nonzero()``. Using `nonzero` directly should be\n",
      "        preferred, as it behaves correctly for subclasses. The rest of this\n",
      "        documentation covers only the case where all three arguments are\n",
      "        provided.\n",
      "    \n",
      "    Parameters\n",
      "    ----------\n",
      "    condition : array_like, bool\n",
      "        Where True, yield `x`, otherwise yield `y`.\n",
      "    x, y : array_like\n",
      "        Values from which to choose. `x`, `y` and `condition` need to be\n",
      "        broadcastable to some shape.\n",
      "    \n",
      "    Returns\n",
      "    -------\n",
      "    out : ndarray\n",
      "        An array with elements from `x` where `condition` is True, and elements\n",
      "        from `y` elsewhere.\n",
      "    \n",
      "    See Also\n",
      "    --------\n",
      "    choose\n",
      "    nonzero : The function that is called when x and y are omitted\n",
      "    \n",
      "    Notes\n",
      "    -----\n",
      "    If all the arrays are 1-D, `where` is equivalent to::\n",
      "    \n",
      "        [xv if c else yv\n",
      "         for c, xv, yv in zip(condition, x, y)]\n",
      "    \n",
      "    Examples\n",
      "    --------\n",
      "    >>> a = np.arange(10)\n",
      "    >>> a\n",
      "    array([0, 1, 2, 3, 4, 5, 6, 7, 8, 9])\n",
      "    >>> np.where(a < 5, a, 10*a)\n",
      "    array([ 0,  1,  2,  3,  4, 50, 60, 70, 80, 90])\n",
      "    \n",
      "    This can be used on multidimensional arrays too:\n",
      "    \n",
      "    >>> np.where([[True, False], [True, True]],\n",
      "    ...          [[1, 2], [3, 4]],\n",
      "    ...          [[9, 8], [7, 6]])\n",
      "    array([[1, 8],\n",
      "           [3, 4]])\n",
      "    \n",
      "    The shapes of x, y, and the condition are broadcast together:\n",
      "    \n",
      "    >>> x, y = np.ogrid[:3, :4]\n",
      "    >>> np.where(x < y, x, 10 + y)  # both x and 10+y are broadcast\n",
      "    array([[10,  0,  0,  0],\n",
      "           [10, 11,  1,  1],\n",
      "           [10, 11, 12,  2]])\n",
      "    \n",
      "    >>> a = np.array([[0, 1, 2],\n",
      "    ...               [0, 2, 4],\n",
      "    ...               [0, 3, 6]])\n",
      "    >>> np.where(a < 4, a, -1)  # -1 is broadcast\n",
      "    array([[ 0,  1,  2],\n",
      "           [ 0,  2, -1],\n",
      "           [ 0,  3, -1]])\n",
      "\n"
     ]
    }
   ],
   "source": [
    "print('Resposta:')\n",
    "print('help(np.unique) <- Este comando dará as instruções em inglês sobre a função np.unique da biblioteca numpy.')\n",
    "print(' ')\n",
    "help(np.unique)\n",
    "print(' ')\n",
    "print('help(np.where) <- Este comando dará as instruções em inglês sobre a função np.where da biblioteca numpy.')\n",
    "print(' ')\n",
    "help(np.where)"
   ]
  },
  {
   "cell_type": "markdown",
   "metadata": {},
   "source": [
    "**c) Obtenha de forma automática os genótipos e quantas repetições foram avaliadas.**"
   ]
  },
  {
   "cell_type": "code",
   "execution_count": 99,
   "metadata": {
    "scrolled": false
   },
   "outputs": [
    {
     "name": "stdout",
     "output_type": "stream",
     "text": [
      "Resposta:\n",
      "Os Genótipos [ 1.  2.  3.  4.  5.  6.  7.  8.  9. 10.] foram avaliados em experimento com 3 repetições por genótipo.\n"
     ]
    }
   ],
   "source": [
    "print('Resposta:')\n",
    "print('Os Genótipos {} foram avaliados em experimento com {} repetições por genótipo.'.format(np.unique(dados[:, 0]),int(max(dados[:, 1]))))"
   ]
  },
  {
   "cell_type": "markdown",
   "metadata": {},
   "source": [
    "**d) Apresente uma matriz contendo somente as colunas 1, 2 e 4.**"
   ]
  },
  {
   "cell_type": "code",
   "execution_count": 100,
   "metadata": {
    "scrolled": false
   },
   "outputs": [
    {
     "name": "stdout",
     "output_type": "stream",
     "text": [
      "Respota:\n",
      "Matriz com informações de Genótipos, Repetições e dados coletados da v2:\n",
      " \n",
      "   Gen    Rep     v2\n",
      "[[  1.     1.   604.15]\n",
      " [  1.     2.   527.36]\n",
      " [  1.     3.   711.87]\n",
      " [  2.     1.   548.  ]\n",
      " [  2.     2.    59.78]\n",
      " [  2.     3.   464.04]\n",
      " [  3.     1.   529.91]\n",
      " [  3.     2.   436.4 ]\n",
      " [  3.     3.   277.88]\n",
      " [  4.     1.   186.9 ]\n",
      " [  4.     2.   478.44]\n",
      " [  4.     3.   454.6 ]\n",
      " [  5.     1.   480.34]\n",
      " [  5.     2.   238.63]\n",
      " [  5.     3.   537.39]\n",
      " [  6.     1.   430.57]\n",
      " [  6.     2.   352.27]\n",
      " [  6.     3.   256.4 ]\n",
      " [  7.     1.   563.79]\n",
      " [  7.     2.   862.62]\n",
      " [  7.     3.   521.22]\n",
      " [  8.     1.   420.44]\n",
      " [  8.     2.   519.95]\n",
      " [  8.     3.   375.29]\n",
      " [  9.     1.   425.79]\n",
      " [  9.     2.   450.88]\n",
      " [  9.     3.   264.96]\n",
      " [ 10.     1.   611.18]\n",
      " [ 10.     2.   372.21]\n",
      " [ 10.     3.   284.37]]\n"
     ]
    }
   ],
   "source": [
    "dados_v2 = dados[:, [0, 1, 3]]\n",
    "print('Respota:')\n",
    "print('Matriz com informações de Genótipos, Repetições e dados coletados da v2:')\n",
    "print(' ')\n",
    "print('   Gen    Rep     v2')\n",
    "print(dados_v2)"
   ]
  },
  {
   "cell_type": "markdown",
   "metadata": {},
   "source": [
    "**e) Obtenha uma matriz que contenha o máximo, o mínimo, a média e a variância de cada genótipo para a variavel da coluna 4. Salve esta matriz em bloco de notas.**"
   ]
  },
  {
   "cell_type": "code",
   "execution_count": 101,
   "metadata": {
    "scrolled": false
   },
   "outputs": [
    {
     "name": "stdout",
     "output_type": "stream",
     "text": [
      "Resposta:\n",
      " \n",
      "O genótipo 1 apresenta as seguintes informaçãos para a variável da coluna 4 (v2):\n",
      "Valor máximo: 711.87 \n",
      "Valor minímo: 527.36 \n",
      "Média: 614.46 \n",
      "Variância: 5727.14 \n",
      " \n",
      "O genótipo 2 apresenta as seguintes informaçãos para a variável da coluna 4 (v2):\n",
      "Valor máximo: 548.0 \n",
      "Valor minímo: 59.78 \n",
      "Média: 357.27 \n",
      "Variância: 45426.02 \n",
      " \n",
      "O genótipo 3 apresenta as seguintes informaçãos para a variável da coluna 4 (v2):\n",
      "Valor máximo: 529.91 \n",
      "Valor minímo: 277.88 \n",
      "Média: 414.73 \n",
      "Variância: 10821.31 \n",
      " \n",
      "O genótipo 4 apresenta as seguintes informaçãos para a variável da coluna 4 (v2):\n",
      "Valor máximo: 478.44 \n",
      "Valor minímo: 186.9 \n",
      "Média: 373.31 \n",
      "Variância: 17469.69 \n",
      " \n",
      "O genótipo 5 apresenta as seguintes informaçãos para a variável da coluna 4 (v2):\n",
      "Valor máximo: 537.39 \n",
      "Valor minímo: 238.63 \n",
      "Média: 418.79 \n",
      "Variância: 16770.66 \n",
      " \n",
      "O genótipo 6 apresenta as seguintes informaçãos para a variável da coluna 4 (v2):\n",
      "Valor máximo: 430.57 \n",
      "Valor minímo: 256.4 \n",
      "Média: 346.41 \n",
      "Variância: 5073.02 \n",
      " \n",
      "O genótipo 7 apresenta as seguintes informaçãos para a variável da coluna 4 (v2):\n",
      "Valor máximo: 862.62 \n",
      "Valor minímo: 521.22 \n",
      "Média: 649.21 \n",
      "Variância: 23073.95 \n",
      " \n",
      "O genótipo 8 apresenta as seguintes informaçãos para a variável da coluna 4 (v2):\n",
      "Valor máximo: 519.95 \n",
      "Valor minímo: 375.29 \n",
      "Média: 438.56 \n",
      "Variância: 3651.92 \n",
      " \n",
      "O genótipo 9 apresenta as seguintes informaçãos para a variável da coluna 4 (v2):\n",
      "Valor máximo: 450.88 \n",
      "Valor minímo: 264.96 \n",
      "Média: 380.54 \n",
      "Variância: 6784.67 \n",
      " \n",
      "O genótipo 10 apresenta as seguintes informaçãos para a variável da coluna 4 (v2):\n",
      "Valor máximo: 611.18 \n",
      "Valor minímo: 284.37 \n",
      "Média: 422.59 \n",
      "Variância: 19069.7 \n",
      " \n",
      " \n",
      "Informações da matriz:\n",
      " \n",
      "  Genótipo   Máximo   Minímo   Média   Variância\n",
      "[[    1.     711.87   527.36   614.46  5727.14]\n",
      " [    2.     548.      59.78   357.27 45426.02]\n",
      " [    3.     529.91   277.88   414.73 10821.31]\n",
      " [    4.     478.44   186.9    373.31 17469.69]\n",
      " [    5.     537.39   238.63   418.79 16770.66]\n",
      " [    6.     430.57   256.4    346.41  5073.02]\n",
      " [    7.     862.62   521.22   649.21 23073.95]\n",
      " [    8.     519.95   375.29   438.56  3651.92]\n",
      " [    9.     450.88   264.96   380.54  6784.67]\n",
      " [   10.     611.18   284.37   422.59 19069.7 ]]\n",
      " \n",
      " \n",
      "f) Obtenha os genótipos que possuem média (médias das repetições) igual ou superior a 500 da matriz gerada na letra anterior.\n",
      " \n",
      "Quanto a v2, Os genótipos [1. 7.] apresentaram as médias iguais ou superiores a 500.\n"
     ]
    }
   ],
   "source": [
    "print('Resposta:')\n",
    "matriz_v2 = np.zeros((len(np.unique(dados_v2[:, 0])), 5))\n",
    "it = 0\n",
    "for i in range(0, len(np.unique(dados_v2[:, 0])), 1):\n",
    "    it = it + 1\n",
    "    print(' ')\n",
    "    print('O genótipo {} apresenta as seguintes informaçãos para a variável da coluna 4 (v2):'.format(it))\n",
    "    print('Valor máximo: {} '.format(np.max((dados_v2[dados_v2[:, 0] == i + 1])[:, 2])))\n",
    "    print('Valor minímo: {} '.format(np.min((dados_v2[dados_v2[:, 0] == i + 1])[:, 2])))\n",
    "    print('Média: {} '.format(np.around(np.mean((dados_v2[dados_v2[:, 0] == i + 1])[:, 2]), 2)))\n",
    "    print('Variância: {} '.format(np.around(np.var((dados_v2[dados_v2[:, 0] == i + 1])[:, 2]), 2)))\n",
    "    matriz_v2[i, 0] = i + 1\n",
    "    matriz_v2[i, 1] = np.max((dados_v2[dados_v2[:, 0] == i + 1])[:, 2])\n",
    "    matriz_v2[i, 2] = np.min((dados_v2[dados_v2[:, 0] == i + 1])[:, 2])\n",
    "    matriz_v2[i, 3] = np.around(np.mean((dados_v2[dados_v2[:, 0] == i + 1])[:, 2]), 2)\n",
    "    matriz_v2[i, 4] = np.around(np.var((dados_v2[dados_v2[:, 0] == i + 1])[:, 2]), 2)\n",
    "\n",
    "np.savetxt('Matriz_4e.txt', matriz_v2, fmt='%2.2f', delimiter='\\t')\n",
    "print(' ')\n",
    "print(' ')\n",
    "print('Informações da matriz:')\n",
    "print(' ')\n",
    "print('  Genótipo   Máximo   Minímo   Média   Variância')\n",
    "print(matriz_v2)\n",
    "print(' ')\n",
    "print(' ')\n",
    "\n",
    "print('f) Obtenha os genótipos que possuem média (médias das repetições) igual ou superior a 500 da matriz gerada na letra anterior.')\n",
    "print(' ')\n",
    "u_maiorq500 = matriz_v2[:, 3] >= 500\n",
    "matriz_v2_maiorq500 = matriz_v2[u_maiorq500]\n",
    "print('Quanto a v2, Os genótipos {} apresentaram as médias iguais ou superiores a 500.'.format(matriz_v2_maiorq500[:, 0]) )"
   ]
  },
  {
   "cell_type": "markdown",
   "metadata": {},
   "source": [
    "**g) Apresente os seguintes graficos:**\n",
    "\n",
    "**- Médias dos genótipos para cada variável. Utilizar o comando plt.subplot para mostrar mais de um grafico por figura:**"
   ]
  },
  {
   "cell_type": "code",
   "execution_count": null,
   "metadata": {
    "scrolled": false
   },
   "outputs": [
    {
     "name": "stdout",
     "output_type": "stream",
     "text": [
      " \n",
      "Resposta:\n",
      "As médias dos genótipos em cada variável:\n",
      " \n",
      " Genótipo    v1     v2     v3     v4     v5\n",
      "[[  1.   281.83 614.46 436.38 334.88 262.91]\n",
      " [  2.   617.69 357.27 379.88 348.69 521.26]\n",
      " [  3.   544.67 414.73 414.59 384.33 190.68]\n",
      " [  4.   603.34 373.31 426.63 495.47 212.18]\n",
      " [  5.   369.77 418.79 504.08 298.85 369.91]\n",
      " [  6.   598.2  346.41 302.68 255.53 568.02]\n",
      " [  7.   602.94 649.21 400.59 259.28 431.09]\n",
      " [  8.   645.77 438.56 293.91 271.58 486.63]\n",
      " [  9.   439.45 380.54 377.   290.6   94.81]\n",
      " [ 10.   540.97 422.59 291.21 340.99 671.  ]]\n",
      " \n",
      " \n"
     ]
    }
   ],
   "source": [
    "matriz_completa = np.zeros((len(np.unique(dados[:, 0])), 6))\n",
    "it = 0\n",
    "for i in range(0, len(np.unique(dados[:, 0])), 1):\n",
    "    it = it + 1\n",
    "    matriz_completa[i, 0] = i + 1\n",
    "    matriz_completa[i, 1] = np.around(np.mean((dados[dados[:, 0] == i + 1])[:, 2]), 2)\n",
    "    matriz_completa[i, 2] = np.around(np.mean((dados[dados[:, 0] == i + 1])[:, 3]), 2)\n",
    "    matriz_completa[i, 3] = np.around(np.mean((dados[dados[:, 0] == i + 1])[:, 4]), 2)\n",
    "    matriz_completa[i, 4] = np.around(np.mean((dados[dados[:, 0] == i + 1])[:, 5]), 2)\n",
    "    matriz_completa[i, 5] = np.around(np.mean((dados[dados[:, 0] == i + 1])[:, 6]), 2)\n",
    "\n",
    "print(' ')\n",
    "print('Resposta:')\n",
    "print('As médias dos genótipos em cada variável:')\n",
    "print(' ')\n",
    "print(' Genótipo    v1     v2     v3     v4     v5')\n",
    "print(matriz_completa)\n",
    "print(' ')\n",
    "print(' ')\n",
    "\n",
    "\n",
    "plt.figure('As médias dos genótipos em cada variável')\n",
    "plt.subplot(2, 3, 1)\n",
    "plt.bar(x=matriz_completa[:, 0], height=matriz_completa[:, 1], width=0.5, align='center', color=\"tab:purple\")\n",
    "plt.title('v1')\n",
    "plt.xticks(matriz_completa[:, 0])\n",
    "plt.ylabel(\"média\")\n",
    "\n",
    "plt.subplot(2, 3, 2)\n",
    "plt.bar(x=matriz_completa[:, 0], height=matriz_completa[:, 2], width=0.5, align='center', color=\"tab:red\")\n",
    "plt.title('v2')\n",
    "plt.xticks(matriz_completa[:, 0])\n",
    "plt.ylabel(\"média\")\n",
    "\n",
    "plt.subplot(2, 3, 3)\n",
    "plt.bar(x=matriz_completa[:, 0], height=matriz_completa[:, 3], width=0.5, align='center', color=\"tab:orange\")\n",
    "plt.title('v3')\n",
    "plt.xticks(matriz_completa[:, 0])\n",
    "plt.ylabel(\"média\")\n",
    "\n",
    "plt.subplot(2, 3, 4)\n",
    "plt.bar(x=matriz_completa[:, 0], height=matriz_completa[:, 4], width=0.5, align='center', color=\"tab:blue\")\n",
    "plt.title('v4')\n",
    "plt.xticks(matriz_completa[:, 0])\n",
    "plt.ylabel(\"média\")\n",
    "\n",
    "plt.subplot(2, 3, 5)\n",
    "plt.bar(x=matriz_completa[:, 0], height=matriz_completa[:, 5], width=0.5, align='center', color=\"tab:purple\")\n",
    "plt.title('v5')\n",
    "plt.xticks(matriz_completa[:, 0])\n",
    "plt.ylabel(\"média\")\n",
    "fig.tight_layout()\n",
    "plt.show()"
   ]
  },
  {
   "cell_type": "markdown",
   "metadata": {},
   "source": [
    "**- Disperão 2D da médias dos genótipos (Utilizar as três primeiras variáveis). No eixo X uma variável e no eixo Y outra.**"
   ]
  },
  {
   "cell_type": "code",
   "execution_count": null,
   "metadata": {
    "scrolled": true
   },
   "outputs": [],
   "source": [
    "cores = ['tab:blue', 'tab:orange', 'tab:green', 'tab:red', 'tab:purple', 'tab:brown','tab:pink', 'tab:gray', 'tab:olive', 'tab:cyan']\n",
    "\n",
    "plt.style.use('ggplot')\n",
    "plt.figure('2D Scatter Graph')\n",
    "\n",
    "plt.subplot(2, 2, 1)\n",
    "for i in np.arange(0, len(np.unique(dados[:, 0])), 1):\n",
    "    plt.scatter(matriz_completa[i, 1], matriz_completa[i, 2], s=50, alpha=0.8, label=int(matriz_completa[i, 0]), c=cores[i])\n",
    "plt.xlabel('v1')\n",
    "plt.ylabel('v2')\n",
    "\n",
    "plt.subplot(2, 2, 2)\n",
    "for i in np.arange(0, len(np.unique(dados[:, 0])), 1):\n",
    "    plt.scatter(matriz_completa[i, 1], matriz_completa[i, 3], s=50, alpha=0.8, label=int(matriz_completa[i, 0]), c=cores[i])\n",
    "plt.xlabel('v1')\n",
    "plt.ylabel('v3')\n",
    "\n",
    "plt.subplot(2, 2, 3)\n",
    "for i in np.arange(0, len(np.unique(dados[:, 0])), 1):\n",
    "    plt.scatter(matriz_completa[i, 2], matriz_completa[i, 3], s=50, alpha=0.8, label=int(matriz_completa[i, 0]), c=cores[i])\n",
    "plt.xlabel('v2')\n",
    "plt.ylabel('v3')\n",
    "\n",
    "plt.legend(bbox_to_anchor=(2.08, 0.7), title='Genótipo', borderaxespad=0., ncol=5)\n",
    "plt.show()"
   ]
  },
  {
   "cell_type": "code",
   "execution_count": null,
   "metadata": {
    "scrolled": true
   },
   "outputs": [],
   "source": []
  }
 ],
 "metadata": {
  "kernelspec": {
   "display_name": "Python 3",
   "language": "python",
   "name": "python3"
  },
  "language_info": {
   "codemirror_mode": {
    "name": "ipython",
    "version": 3
   },
   "file_extension": ".py",
   "mimetype": "text/x-python",
   "name": "python",
   "nbconvert_exporter": "python",
   "pygments_lexer": "ipython3",
   "version": "3.7.6"
  }
 },
 "nbformat": 4,
 "nbformat_minor": 4
}
